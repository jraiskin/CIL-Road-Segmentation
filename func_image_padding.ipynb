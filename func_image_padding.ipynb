{
 "cells": [
  {
   "cell_type": "code",
   "execution_count": 1,
   "metadata": {
    "collapsed": false
   },
   "outputs": [],
   "source": [
    "import numpy as np\n",
    "from PIL import Image\n",
    "\n",
    "def pad_img(file_path, borders_size, pic_size = [400, 400]):\n",
    "    # borders_size should be 2 * np.ceil(patch size / 2)\n",
    "    Img = Image.open(file_path)\n",
    "    img = np.asarray(Img, np.int)\n",
    "    shp = np.shape(img)\n",
    "    img = img.transpose(2,0,1).reshape(3,pic_size[0],pic_size[1])\n",
    "    \n",
    "    pad_len = pic_size[0] + borders_size\n",
    "    \n",
    "    leftPad = np.ceil(float((pad_len - shp[0])) / 2)\n",
    "    rightPad = np.ceil(float(pad_len - shp[0]) - leftPad)\n",
    "    topPad = np.ceil(float((pad_len - shp[1])) / 2)\n",
    "    bottomPad = np.ceil(float(pad_len - shp[1]) - topPad)\n",
    "    pads = ((leftPad,rightPad),(topPad,bottomPad))\n",
    "      \n",
    "    img_arr = np.ndarray((3,pad_len,pad_len),np.int)\n",
    "    for i,x in enumerate(img):\n",
    "        x_p = np.pad(x,pads, 'reflect')\n",
    "        img_arr[i,:,:] = x_p\n",
    "    \n",
    "    im_shp = np.shape(img_arr)\n",
    "    ii = np.uint8(img_arr).transpose(1,2,0)\n",
    "    \n",
    "    im = Image.fromarray(np.array( (ii) ))\n",
    "    \n",
    "    im.format = \"PNG\"\n",
    "    \n",
    "    return im"
   ]
  },
  {
   "cell_type": "code",
   "execution_count": 2,
   "metadata": {
    "collapsed": false
   },
   "outputs": [],
   "source": [
    "# test 'pad_img' function\n",
    "\n",
    "x_test = pad_img('../training/images/satImage_092.png',\n",
    "                           borders_size = 40)\n",
    "x_test.show()\n",
    "x_test.save('1.PNG', 'PNG')\n",
    "\n",
    "# im.save((filePath), \"JPEG\")\n",
    "# im.save(('1.jpg'), \"JPEG\")"
   ]
  },
  {
   "cell_type": "code",
   "execution_count": null,
   "metadata": {
    "collapsed": true
   },
   "outputs": [],
   "source": []
  }
 ],
 "metadata": {
  "kernelspec": {
   "display_name": "Python 2",
   "language": "python",
   "name": "python2"
  },
  "language_info": {
   "codemirror_mode": {
    "name": "ipython",
    "version": 2
   },
   "file_extension": ".py",
   "mimetype": "text/x-python",
   "name": "python",
   "nbconvert_exporter": "python",
   "pygments_lexer": "ipython2",
   "version": "2.7.6"
  }
 },
 "nbformat": 4,
 "nbformat_minor": 0
}
