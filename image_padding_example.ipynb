{
 "cells": [
  {
   "cell_type": "code",
   "execution_count": 34,
   "metadata": {
    "collapsed": true
   },
   "outputs": [],
   "source": [
    "import numpy as np\n",
    "from PIL import Image\n",
    "\n",
    "# filePath = 'training/images/satImage_001.png'\n",
    "filePath = '../training/images/satImage_092.png'"
   ]
  },
  {
   "cell_type": "code",
   "execution_count": 35,
   "metadata": {
    "collapsed": false
   },
   "outputs": [],
   "source": [
    "Img = Image.open(filePath)\n",
    "img = np.asarray(Img, np.int)\n",
    "shp = np.shape(img)\n",
    "img = img.transpose(2,0,1).reshape(3,400,400)\n",
    "\n",
    "pad_len = 400 + 40\n",
    "\n",
    "leftPad = round(float((pad_len - shp[0])) / 2)\n",
    "rightPad = round(float(pad_len - shp[0]) - leftPad)\n",
    "topPad = round(float((pad_len - shp[1])) / 2)\n",
    "bottomPad = round(float(pad_len - shp[1]) - topPad)\n",
    "pads = ((leftPad,rightPad),(topPad,bottomPad))"
   ]
  },
  {
   "cell_type": "code",
   "execution_count": 36,
   "metadata": {
    "collapsed": false
   },
   "outputs": [],
   "source": [
    "img_arr = np.ndarray((3,pad_len,pad_len),np.int)\n",
    "for i,x in enumerate(img):\n",
    "#     cons = np.int(np.median(x))\n",
    "    x_p = np.pad(x,pads,\n",
    "                'reflect')\n",
    "    img_arr[i,:,:] = x_p\n",
    "\n",
    "\n",
    "im_shp = np.shape(img_arr)\n",
    "ii = np.uint8(img_arr).transpose(1,2,0)\n",
    "\n",
    "im = Image.fromarray(np.array( (ii) ))\n",
    "im.show()\n",
    "\n",
    "# im.save((filePath), \"JPEG\")\n",
    "im.save(('1.jpg'), \"JPEG\")"
   ]
  },
  {
   "cell_type": "code",
   "execution_count": null,
   "metadata": {
    "collapsed": true
   },
   "outputs": [],
   "source": []
  }
 ],
 "metadata": {
  "kernelspec": {
   "display_name": "Python 2",
   "language": "python",
   "name": "python2"
  },
  "language_info": {
   "codemirror_mode": {
    "name": "ipython",
    "version": 2
   },
   "file_extension": ".py",
   "mimetype": "text/x-python",
   "name": "python",
   "nbconvert_exporter": "python",
   "pygments_lexer": "ipython2",
   "version": "2.7.6"
  }
 },
 "nbformat": 4,
 "nbformat_minor": 0
}
